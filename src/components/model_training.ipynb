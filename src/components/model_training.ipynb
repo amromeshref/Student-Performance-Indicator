{
 "cells": [
  {
   "cell_type": "markdown",
   "id": "54c585e2",
   "metadata": {},
   "source": [
    "#### Models used in training\n",
    "* Linear Regression\n",
    "* XGBoost Regressor\n",
    "* Neural Network"
   ]
  },
  {
   "cell_type": "markdown",
   "id": "9b058380",
   "metadata": {},
   "source": [
    "#### General Steps to Follow\n",
    "* Defining some useful functions\n",
    "* Importaing packages and reading the data\n",
    "* Defining x_train, x_test, y_train, y_test\n",
    "* Train the model using different algorithms"
   ]
  },
  {
   "cell_type": "markdown",
   "id": "a1558d19",
   "metadata": {},
   "source": [
    "### Evaluation Functions\n",
    "* Mean Squared Error\n",
    "* Square Error\n",
    "* R2 Score"
   ]
  },
  {
   "cell_type": "markdown",
   "id": "bee3260a",
   "metadata": {},
   "source": [
    "## 1) Defining some useful functions"
   ]
  },
  {
   "cell_type": "code",
   "execution_count": 1,
   "id": "defe7de1",
   "metadata": {},
   "outputs": [],
   "source": [
    "def square_error(y_true, y_pred):\n",
    "    m = y_true.shape[0]\n",
    "    result = np.sum(np.square(y_true-y_pred))\n",
    "    result /= (2*m)\n",
    "    return result"
   ]
  },
  {
   "cell_type": "code",
   "execution_count": 58,
   "id": "36a42257",
   "metadata": {},
   "outputs": [],
   "source": [
    "def evaluation(y_train, y_test, y_pred_train, y_pred_test):\n",
    "    print(\"Train Data\")\n",
    "    mse = mean_squared_error(y_train, y_pred_train)\n",
    "    sqe = square_error(y_train, y_pred_train)\n",
    "    r2 = r2_score(y_train, y_pred_train)\n",
    "    print(\"Mean Squared Error:\", mse)\n",
    "    print(\"Squared Error:\",sqe)\n",
    "    print(\"R-squared:\", r2)\n",
    "    print(\"Max Deviation\", max(abs(y_pred_train-y_train)))\n",
    "    print(\"---------------------------------------------------------\")\n",
    "    \n",
    "    print(\"Test Data\")\n",
    "    mse = mean_squared_error(y_test, y_pred_test)\n",
    "    sqe = square_error(y_test, y_pred_test)\n",
    "    r2 = r2_score(y_test, y_pred_test)\n",
    "    print(\"Mean Squared Error:\", mse)\n",
    "    print(\"Squared Error:\",sqe)\n",
    "    print(\"R-squared:\", r2)\n",
    "    print(\"Max Deviation\", max(abs(y_pred_test-y_test)))\n",
    "    return sqe"
   ]
  },
  {
   "cell_type": "code",
   "execution_count": 135,
   "id": "651f2d66",
   "metadata": {},
   "outputs": [],
   "source": [
    "def random_search(model,it):\n",
    "    random_search = RandomizedSearchCV(model, param_distributions=param_dist, n_iter=it, cv=5,n_jobs=-1, scoring='neg_mean_squared_error', random_state=42)\n",
    "    random_search.fit(x_train, y_train)\n",
    "    return random_search.best_estimator_"
   ]
  },
  {
   "cell_type": "code",
   "execution_count": 108,
   "id": "56285397",
   "metadata": {},
   "outputs": [],
   "source": [
    "models_path = {\n",
    "    \n",
    "    \"Linear_Regrission\" : \"../../data/linear_regression_model.pkl\",\n",
    "    \"XGBRegressor\" : \"../../data/xgboost_model.pkl\",\n",
    "    \"Neural_Network\" : \"../../data/neural_network_model.pkl\"\n",
    "}"
   ]
  },
  {
   "cell_type": "code",
   "execution_count": 102,
   "id": "56434865",
   "metadata": {},
   "outputs": [],
   "source": [
    "def save_model(sqe_new, new_model, x_test, y_test, model_name):\n",
    "    model_path = models_path[model_name]\n",
    "    old_model = joblib.load(model_path)\n",
    "    y_pred_test = old_model.predict(x_test)\n",
    "    sqe_old = square_error(y_test, y_pred_test)\n",
    "    print(\"Old Square Error:\", sqe_old)\n",
    "    print(\"New Square Error:\", sqe_new)\n",
    "\n",
    "    if sqe_new < sqe_old:\n",
    "        joblib.dump(new_model,model_path)"
   ]
  },
  {
   "cell_type": "markdown",
   "id": "0da4217d",
   "metadata": {},
   "source": [
    "## 2) Importaing packages and reading the data"
   ]
  },
  {
   "cell_type": "code",
   "execution_count": 2,
   "id": "addf4d1b",
   "metadata": {},
   "outputs": [],
   "source": [
    "import pandas as pd\n",
    "import numpy as np\n",
    "import joblib\n",
    "from sklearn.metrics import mean_squared_error, r2_score"
   ]
  },
  {
   "cell_type": "code",
   "execution_count": 3,
   "id": "4bd3d1dc",
   "metadata": {},
   "outputs": [],
   "source": [
    "train_data = pd.read_csv(\"../../data/train.csv\")\n",
    "test_data = pd.read_csv(\"../../data/test.csv\")"
   ]
  },
  {
   "cell_type": "code",
   "execution_count": 4,
   "id": "44ef60a3",
   "metadata": {},
   "outputs": [
    {
     "name": "stdout",
     "output_type": "stream",
     "text": [
      "Shape of Train Data (800, 18)\n",
      "Shape of Test Data (200, 18)\n"
     ]
    }
   ],
   "source": [
    "print(\"Shape of Train Data\", train_data.shape)\n",
    "print(\"Shape of Test Data\", test_data.shape)"
   ]
  },
  {
   "cell_type": "code",
   "execution_count": 5,
   "id": "491f3772",
   "metadata": {},
   "outputs": [
    {
     "data": {
      "text/html": [
       "<div>\n",
       "<style scoped>\n",
       "    .dataframe tbody tr th:only-of-type {\n",
       "        vertical-align: middle;\n",
       "    }\n",
       "\n",
       "    .dataframe tbody tr th {\n",
       "        vertical-align: top;\n",
       "    }\n",
       "\n",
       "    .dataframe thead th {\n",
       "        text-align: right;\n",
       "    }\n",
       "</style>\n",
       "<table border=\"1\" class=\"dataframe\">\n",
       "  <thead>\n",
       "    <tr style=\"text-align: right;\">\n",
       "      <th></th>\n",
       "      <th>average_score</th>\n",
       "      <th>gender_female</th>\n",
       "      <th>gender_male</th>\n",
       "      <th>race/ethnicity_group A</th>\n",
       "      <th>race/ethnicity_group B</th>\n",
       "      <th>race/ethnicity_group C</th>\n",
       "      <th>race/ethnicity_group D</th>\n",
       "      <th>race/ethnicity_group E</th>\n",
       "      <th>parental level of education_associate's degree</th>\n",
       "      <th>parental level of education_bachelor's degree</th>\n",
       "      <th>parental level of education_high school</th>\n",
       "      <th>parental level of education_master's degree</th>\n",
       "      <th>parental level of education_some college</th>\n",
       "      <th>parental level of education_some high school</th>\n",
       "      <th>lunch_free/reduced</th>\n",
       "      <th>lunch_standard</th>\n",
       "      <th>test preparation course_completed</th>\n",
       "      <th>test preparation course_none</th>\n",
       "    </tr>\n",
       "  </thead>\n",
       "  <tbody>\n",
       "    <tr>\n",
       "      <th>0</th>\n",
       "      <td>69.000000</td>\n",
       "      <td>1.0</td>\n",
       "      <td>0.0</td>\n",
       "      <td>0.0</td>\n",
       "      <td>0.0</td>\n",
       "      <td>0.0</td>\n",
       "      <td>1.0</td>\n",
       "      <td>0.0</td>\n",
       "      <td>0.0</td>\n",
       "      <td>0.0</td>\n",
       "      <td>0.0</td>\n",
       "      <td>1.0</td>\n",
       "      <td>0.0</td>\n",
       "      <td>0.0</td>\n",
       "      <td>0.0</td>\n",
       "      <td>1.0</td>\n",
       "      <td>0.0</td>\n",
       "      <td>1.0</td>\n",
       "    </tr>\n",
       "    <tr>\n",
       "      <th>1</th>\n",
       "      <td>77.333333</td>\n",
       "      <td>1.0</td>\n",
       "      <td>0.0</td>\n",
       "      <td>0.0</td>\n",
       "      <td>0.0</td>\n",
       "      <td>1.0</td>\n",
       "      <td>0.0</td>\n",
       "      <td>0.0</td>\n",
       "      <td>0.0</td>\n",
       "      <td>1.0</td>\n",
       "      <td>0.0</td>\n",
       "      <td>0.0</td>\n",
       "      <td>0.0</td>\n",
       "      <td>0.0</td>\n",
       "      <td>1.0</td>\n",
       "      <td>0.0</td>\n",
       "      <td>1.0</td>\n",
       "      <td>0.0</td>\n",
       "    </tr>\n",
       "  </tbody>\n",
       "</table>\n",
       "</div>"
      ],
      "text/plain": [
       "   average_score  gender_female  gender_male  race/ethnicity_group A  \\\n",
       "0      69.000000            1.0          0.0                     0.0   \n",
       "1      77.333333            1.0          0.0                     0.0   \n",
       "\n",
       "   race/ethnicity_group B  race/ethnicity_group C  race/ethnicity_group D  \\\n",
       "0                     0.0                     0.0                     1.0   \n",
       "1                     0.0                     1.0                     0.0   \n",
       "\n",
       "   race/ethnicity_group E  parental level of education_associate's degree  \\\n",
       "0                     0.0                                             0.0   \n",
       "1                     0.0                                             0.0   \n",
       "\n",
       "   parental level of education_bachelor's degree  \\\n",
       "0                                            0.0   \n",
       "1                                            1.0   \n",
       "\n",
       "   parental level of education_high school  \\\n",
       "0                                      0.0   \n",
       "1                                      0.0   \n",
       "\n",
       "   parental level of education_master's degree  \\\n",
       "0                                          1.0   \n",
       "1                                          0.0   \n",
       "\n",
       "   parental level of education_some college  \\\n",
       "0                                       0.0   \n",
       "1                                       0.0   \n",
       "\n",
       "   parental level of education_some high school  lunch_free/reduced  \\\n",
       "0                                           0.0                 0.0   \n",
       "1                                           0.0                 1.0   \n",
       "\n",
       "   lunch_standard  test preparation course_completed  \\\n",
       "0             1.0                                0.0   \n",
       "1             0.0                                1.0   \n",
       "\n",
       "   test preparation course_none  \n",
       "0                           1.0  \n",
       "1                           0.0  "
      ]
     },
     "execution_count": 5,
     "metadata": {},
     "output_type": "execute_result"
    }
   ],
   "source": [
    "train_data.head(2)"
   ]
  },
  {
   "cell_type": "markdown",
   "id": "a950beb6",
   "metadata": {},
   "source": [
    "### ----------------------------------------------------------------------------------------------------------------------------------------------------------"
   ]
  },
  {
   "cell_type": "markdown",
   "id": "ca7aa1aa",
   "metadata": {},
   "source": [
    "## 3) Defining x_train, x_test, y_train, y_test"
   ]
  },
  {
   "cell_type": "code",
   "execution_count": 6,
   "id": "27c18428",
   "metadata": {},
   "outputs": [],
   "source": [
    "x_train = train_data.copy()\n",
    "y_train = train_data[\"average_score\"].copy()\n",
    "x_train.drop([\"average_score\"], axis = 1, inplace = True)\n",
    "\n",
    "\n",
    "x_test = test_data.copy()\n",
    "y_test = test_data[\"average_score\"].copy()\n",
    "x_test.drop([\"average_score\"], axis = 1, inplace = True)"
   ]
  },
  {
   "cell_type": "code",
   "execution_count": null,
   "id": "51ffb7e3",
   "metadata": {},
   "outputs": [],
   "source": []
  },
  {
   "cell_type": "markdown",
   "id": "03616541",
   "metadata": {},
   "source": [
    "### ----------------------------------------------------------------------------------------------------------------------------------------------------------"
   ]
  },
  {
   "cell_type": "markdown",
   "id": "828f616f",
   "metadata": {},
   "source": [
    "## 4) Linear Regression"
   ]
  },
  {
   "cell_type": "markdown",
   "id": "c15cae73",
   "metadata": {},
   "source": [
    "### 4.1 LinearRegression()"
   ]
  },
  {
   "cell_type": "code",
   "execution_count": 103,
   "id": "66ad2974",
   "metadata": {},
   "outputs": [],
   "source": [
    "from sklearn.linear_model import LinearRegression"
   ]
  },
  {
   "cell_type": "code",
   "execution_count": 104,
   "id": "acd7c3e1",
   "metadata": {},
   "outputs": [],
   "source": [
    "model = LinearRegression()"
   ]
  },
  {
   "cell_type": "code",
   "execution_count": 105,
   "id": "e5af13ca",
   "metadata": {},
   "outputs": [
    {
     "data": {
      "text/html": [
       "<style>#sk-container-id-12 {color: black;background-color: white;}#sk-container-id-12 pre{padding: 0;}#sk-container-id-12 div.sk-toggleable {background-color: white;}#sk-container-id-12 label.sk-toggleable__label {cursor: pointer;display: block;width: 100%;margin-bottom: 0;padding: 0.3em;box-sizing: border-box;text-align: center;}#sk-container-id-12 label.sk-toggleable__label-arrow:before {content: \"▸\";float: left;margin-right: 0.25em;color: #696969;}#sk-container-id-12 label.sk-toggleable__label-arrow:hover:before {color: black;}#sk-container-id-12 div.sk-estimator:hover label.sk-toggleable__label-arrow:before {color: black;}#sk-container-id-12 div.sk-toggleable__content {max-height: 0;max-width: 0;overflow: hidden;text-align: left;background-color: #f0f8ff;}#sk-container-id-12 div.sk-toggleable__content pre {margin: 0.2em;color: black;border-radius: 0.25em;background-color: #f0f8ff;}#sk-container-id-12 input.sk-toggleable__control:checked~div.sk-toggleable__content {max-height: 200px;max-width: 100%;overflow: auto;}#sk-container-id-12 input.sk-toggleable__control:checked~label.sk-toggleable__label-arrow:before {content: \"▾\";}#sk-container-id-12 div.sk-estimator input.sk-toggleable__control:checked~label.sk-toggleable__label {background-color: #d4ebff;}#sk-container-id-12 div.sk-label input.sk-toggleable__control:checked~label.sk-toggleable__label {background-color: #d4ebff;}#sk-container-id-12 input.sk-hidden--visually {border: 0;clip: rect(1px 1px 1px 1px);clip: rect(1px, 1px, 1px, 1px);height: 1px;margin: -1px;overflow: hidden;padding: 0;position: absolute;width: 1px;}#sk-container-id-12 div.sk-estimator {font-family: monospace;background-color: #f0f8ff;border: 1px dotted black;border-radius: 0.25em;box-sizing: border-box;margin-bottom: 0.5em;}#sk-container-id-12 div.sk-estimator:hover {background-color: #d4ebff;}#sk-container-id-12 div.sk-parallel-item::after {content: \"\";width: 100%;border-bottom: 1px solid gray;flex-grow: 1;}#sk-container-id-12 div.sk-label:hover label.sk-toggleable__label {background-color: #d4ebff;}#sk-container-id-12 div.sk-serial::before {content: \"\";position: absolute;border-left: 1px solid gray;box-sizing: border-box;top: 0;bottom: 0;left: 50%;z-index: 0;}#sk-container-id-12 div.sk-serial {display: flex;flex-direction: column;align-items: center;background-color: white;padding-right: 0.2em;padding-left: 0.2em;position: relative;}#sk-container-id-12 div.sk-item {position: relative;z-index: 1;}#sk-container-id-12 div.sk-parallel {display: flex;align-items: stretch;justify-content: center;background-color: white;position: relative;}#sk-container-id-12 div.sk-item::before, #sk-container-id-12 div.sk-parallel-item::before {content: \"\";position: absolute;border-left: 1px solid gray;box-sizing: border-box;top: 0;bottom: 0;left: 50%;z-index: -1;}#sk-container-id-12 div.sk-parallel-item {display: flex;flex-direction: column;z-index: 1;position: relative;background-color: white;}#sk-container-id-12 div.sk-parallel-item:first-child::after {align-self: flex-end;width: 50%;}#sk-container-id-12 div.sk-parallel-item:last-child::after {align-self: flex-start;width: 50%;}#sk-container-id-12 div.sk-parallel-item:only-child::after {width: 0;}#sk-container-id-12 div.sk-dashed-wrapped {border: 1px dashed gray;margin: 0 0.4em 0.5em 0.4em;box-sizing: border-box;padding-bottom: 0.4em;background-color: white;}#sk-container-id-12 div.sk-label label {font-family: monospace;font-weight: bold;display: inline-block;line-height: 1.2em;}#sk-container-id-12 div.sk-label-container {text-align: center;}#sk-container-id-12 div.sk-container {/* jupyter's `normalize.less` sets `[hidden] { display: none; }` but bootstrap.min.css set `[hidden] { display: none !important; }` so we also need the `!important` here to be able to override the default hidden behavior on the sphinx rendered scikit-learn.org. See: https://github.com/scikit-learn/scikit-learn/issues/21755 */display: inline-block !important;position: relative;}#sk-container-id-12 div.sk-text-repr-fallback {display: none;}</style><div id=\"sk-container-id-12\" class=\"sk-top-container\"><div class=\"sk-text-repr-fallback\"><pre>LinearRegression()</pre><b>In a Jupyter environment, please rerun this cell to show the HTML representation or trust the notebook. <br />On GitHub, the HTML representation is unable to render, please try loading this page with nbviewer.org.</b></div><div class=\"sk-container\" hidden><div class=\"sk-item\"><div class=\"sk-estimator sk-toggleable\"><input class=\"sk-toggleable__control sk-hidden--visually\" id=\"sk-estimator-id-14\" type=\"checkbox\" checked><label for=\"sk-estimator-id-14\" class=\"sk-toggleable__label sk-toggleable__label-arrow\">LinearRegression</label><div class=\"sk-toggleable__content\"><pre>LinearRegression()</pre></div></div></div></div></div>"
      ],
      "text/plain": [
       "LinearRegression()"
      ]
     },
     "execution_count": 105,
     "metadata": {},
     "output_type": "execute_result"
    }
   ],
   "source": [
    "model.fit(x_train,y_train)"
   ]
  },
  {
   "cell_type": "markdown",
   "id": "8452d37d",
   "metadata": {},
   "source": [
    "### Evaluation on train and testdata"
   ]
  },
  {
   "cell_type": "code",
   "execution_count": 106,
   "id": "fcf3635e",
   "metadata": {},
   "outputs": [
    {
     "name": "stdout",
     "output_type": "stream",
     "text": [
      "Train Data\n",
      "Mean Squared Error: 150.7522482638889\n",
      "Squared Error: 75.37612413194445\n",
      "R-squared: 0.2441580701926087\n",
      "Max Deviation 39.75\n",
      "---------------------------------------------------------\n",
      "Test Data\n",
      "Mean Squared Error: 182.58111111111108\n",
      "Squared Error: 91.29055555555554\n",
      "R-squared: 0.1482761796758213\n",
      "Max Deviation 49.75\n"
     ]
    }
   ],
   "source": [
    "y_pred_train = model.predict(x_train)\n",
    "y_pred_test = model.predict(x_test)\n",
    "sqe = evaluation(y_train, y_test, y_pred_train, y_pred_test) #sqe here for test set"
   ]
  },
  {
   "cell_type": "code",
   "execution_count": null,
   "id": "e8f172b0",
   "metadata": {},
   "outputs": [],
   "source": []
  },
  {
   "cell_type": "code",
   "execution_count": 110,
   "id": "dd83ecdb",
   "metadata": {},
   "outputs": [
    {
     "name": "stdout",
     "output_type": "stream",
     "text": [
      "Old Square Error: 89.81331178190334\n",
      "New Square Error: 91.29055555555554\n"
     ]
    },
    {
     "name": "stderr",
     "output_type": "stream",
     "text": [
      "/home/amro/.local/lib/python3.10/site-packages/sklearn/base.py:318: UserWarning: Trying to unpickle estimator Lasso from version 1.3.0 when using version 1.2.2. This might lead to breaking code or invalid results. Use at your own risk. For more info please refer to:\n",
      "https://scikit-learn.org/stable/model_persistence.html#security-maintainability-limitations\n",
      "  warnings.warn(\n"
     ]
    }
   ],
   "source": [
    "save_model(sqe, model, x_test, y_test, \"Linear_Regrission\")"
   ]
  },
  {
   "cell_type": "code",
   "execution_count": null,
   "id": "6daef112",
   "metadata": {},
   "outputs": [],
   "source": []
  },
  {
   "cell_type": "markdown",
   "id": "330f096d",
   "metadata": {},
   "source": [
    "### --------------------------------------------------------------------------------"
   ]
  },
  {
   "cell_type": "markdown",
   "id": "bbb52276",
   "metadata": {},
   "source": [
    "### 4.2 Ridge()"
   ]
  },
  {
   "cell_type": "code",
   "execution_count": 111,
   "id": "1748427a",
   "metadata": {},
   "outputs": [],
   "source": [
    "from sklearn.linear_model import Ridge"
   ]
  },
  {
   "cell_type": "code",
   "execution_count": 112,
   "id": "120f5e1f",
   "metadata": {},
   "outputs": [],
   "source": [
    "model = Ridge(alpha = 10)"
   ]
  },
  {
   "cell_type": "code",
   "execution_count": 113,
   "id": "1837256c",
   "metadata": {},
   "outputs": [
    {
     "data": {
      "text/html": [
       "<style>#sk-container-id-13 {color: black;background-color: white;}#sk-container-id-13 pre{padding: 0;}#sk-container-id-13 div.sk-toggleable {background-color: white;}#sk-container-id-13 label.sk-toggleable__label {cursor: pointer;display: block;width: 100%;margin-bottom: 0;padding: 0.3em;box-sizing: border-box;text-align: center;}#sk-container-id-13 label.sk-toggleable__label-arrow:before {content: \"▸\";float: left;margin-right: 0.25em;color: #696969;}#sk-container-id-13 label.sk-toggleable__label-arrow:hover:before {color: black;}#sk-container-id-13 div.sk-estimator:hover label.sk-toggleable__label-arrow:before {color: black;}#sk-container-id-13 div.sk-toggleable__content {max-height: 0;max-width: 0;overflow: hidden;text-align: left;background-color: #f0f8ff;}#sk-container-id-13 div.sk-toggleable__content pre {margin: 0.2em;color: black;border-radius: 0.25em;background-color: #f0f8ff;}#sk-container-id-13 input.sk-toggleable__control:checked~div.sk-toggleable__content {max-height: 200px;max-width: 100%;overflow: auto;}#sk-container-id-13 input.sk-toggleable__control:checked~label.sk-toggleable__label-arrow:before {content: \"▾\";}#sk-container-id-13 div.sk-estimator input.sk-toggleable__control:checked~label.sk-toggleable__label {background-color: #d4ebff;}#sk-container-id-13 div.sk-label input.sk-toggleable__control:checked~label.sk-toggleable__label {background-color: #d4ebff;}#sk-container-id-13 input.sk-hidden--visually {border: 0;clip: rect(1px 1px 1px 1px);clip: rect(1px, 1px, 1px, 1px);height: 1px;margin: -1px;overflow: hidden;padding: 0;position: absolute;width: 1px;}#sk-container-id-13 div.sk-estimator {font-family: monospace;background-color: #f0f8ff;border: 1px dotted black;border-radius: 0.25em;box-sizing: border-box;margin-bottom: 0.5em;}#sk-container-id-13 div.sk-estimator:hover {background-color: #d4ebff;}#sk-container-id-13 div.sk-parallel-item::after {content: \"\";width: 100%;border-bottom: 1px solid gray;flex-grow: 1;}#sk-container-id-13 div.sk-label:hover label.sk-toggleable__label {background-color: #d4ebff;}#sk-container-id-13 div.sk-serial::before {content: \"\";position: absolute;border-left: 1px solid gray;box-sizing: border-box;top: 0;bottom: 0;left: 50%;z-index: 0;}#sk-container-id-13 div.sk-serial {display: flex;flex-direction: column;align-items: center;background-color: white;padding-right: 0.2em;padding-left: 0.2em;position: relative;}#sk-container-id-13 div.sk-item {position: relative;z-index: 1;}#sk-container-id-13 div.sk-parallel {display: flex;align-items: stretch;justify-content: center;background-color: white;position: relative;}#sk-container-id-13 div.sk-item::before, #sk-container-id-13 div.sk-parallel-item::before {content: \"\";position: absolute;border-left: 1px solid gray;box-sizing: border-box;top: 0;bottom: 0;left: 50%;z-index: -1;}#sk-container-id-13 div.sk-parallel-item {display: flex;flex-direction: column;z-index: 1;position: relative;background-color: white;}#sk-container-id-13 div.sk-parallel-item:first-child::after {align-self: flex-end;width: 50%;}#sk-container-id-13 div.sk-parallel-item:last-child::after {align-self: flex-start;width: 50%;}#sk-container-id-13 div.sk-parallel-item:only-child::after {width: 0;}#sk-container-id-13 div.sk-dashed-wrapped {border: 1px dashed gray;margin: 0 0.4em 0.5em 0.4em;box-sizing: border-box;padding-bottom: 0.4em;background-color: white;}#sk-container-id-13 div.sk-label label {font-family: monospace;font-weight: bold;display: inline-block;line-height: 1.2em;}#sk-container-id-13 div.sk-label-container {text-align: center;}#sk-container-id-13 div.sk-container {/* jupyter's `normalize.less` sets `[hidden] { display: none; }` but bootstrap.min.css set `[hidden] { display: none !important; }` so we also need the `!important` here to be able to override the default hidden behavior on the sphinx rendered scikit-learn.org. See: https://github.com/scikit-learn/scikit-learn/issues/21755 */display: inline-block !important;position: relative;}#sk-container-id-13 div.sk-text-repr-fallback {display: none;}</style><div id=\"sk-container-id-13\" class=\"sk-top-container\"><div class=\"sk-text-repr-fallback\"><pre>Ridge(alpha=10)</pre><b>In a Jupyter environment, please rerun this cell to show the HTML representation or trust the notebook. <br />On GitHub, the HTML representation is unable to render, please try loading this page with nbviewer.org.</b></div><div class=\"sk-container\" hidden><div class=\"sk-item\"><div class=\"sk-estimator sk-toggleable\"><input class=\"sk-toggleable__control sk-hidden--visually\" id=\"sk-estimator-id-15\" type=\"checkbox\" checked><label for=\"sk-estimator-id-15\" class=\"sk-toggleable__label sk-toggleable__label-arrow\">Ridge</label><div class=\"sk-toggleable__content\"><pre>Ridge(alpha=10)</pre></div></div></div></div></div>"
      ],
      "text/plain": [
       "Ridge(alpha=10)"
      ]
     },
     "execution_count": 113,
     "metadata": {},
     "output_type": "execute_result"
    }
   ],
   "source": [
    "model.fit(x_train,y_train)"
   ]
  },
  {
   "cell_type": "markdown",
   "id": "b4466150",
   "metadata": {},
   "source": [
    "### Evaluation on train and test data"
   ]
  },
  {
   "cell_type": "code",
   "execution_count": 114,
   "id": "022accec",
   "metadata": {},
   "outputs": [
    {
     "name": "stdout",
     "output_type": "stream",
     "text": [
      "Train Data\n",
      "Mean Squared Error: 148.8261902963277\n",
      "Squared Error: 74.41309514816385\n",
      "R-squared: 0.2538149435585968\n",
      "Max Deviation 38.36050432494929\n",
      "---------------------------------------------------------\n",
      "Test Data\n",
      "Mean Squared Error: 180.04791123980397\n",
      "Squared Error: 90.02395561990198\n",
      "R-squared: 0.16009332033678159\n",
      "Max Deviation 49.460713007330845\n"
     ]
    }
   ],
   "source": [
    "y_pred_train = model.predict(x_train)\n",
    "y_pred_test = model.predict(x_test)\n",
    "sqe = evaluation(y_train, y_test, y_pred_train, y_pred_test) #sqe here for test set"
   ]
  },
  {
   "cell_type": "code",
   "execution_count": 115,
   "id": "4982a116",
   "metadata": {},
   "outputs": [
    {
     "name": "stdout",
     "output_type": "stream",
     "text": [
      "Old Square Error: 89.81331178190334\n",
      "New Square Error: 90.02395561990198\n"
     ]
    },
    {
     "name": "stderr",
     "output_type": "stream",
     "text": [
      "/home/amro/.local/lib/python3.10/site-packages/sklearn/base.py:318: UserWarning: Trying to unpickle estimator Lasso from version 1.3.0 when using version 1.2.2. This might lead to breaking code or invalid results. Use at your own risk. For more info please refer to:\n",
      "https://scikit-learn.org/stable/model_persistence.html#security-maintainability-limitations\n",
      "  warnings.warn(\n"
     ]
    }
   ],
   "source": [
    "save_model(sqe, model, x_test, y_test, \"Linear_Regrission\")"
   ]
  },
  {
   "cell_type": "code",
   "execution_count": null,
   "id": "e38002fc",
   "metadata": {},
   "outputs": [],
   "source": []
  },
  {
   "cell_type": "markdown",
   "id": "7407b65a",
   "metadata": {},
   "source": [
    "### --------------------------------------------------------------------------------"
   ]
  },
  {
   "cell_type": "markdown",
   "id": "a4eaeb85",
   "metadata": {},
   "source": [
    "### 4.3 Lasso()"
   ]
  },
  {
   "cell_type": "code",
   "execution_count": 116,
   "id": "991e03a3",
   "metadata": {},
   "outputs": [],
   "source": [
    "from sklearn.linear_model import Lasso"
   ]
  },
  {
   "cell_type": "code",
   "execution_count": 117,
   "id": "b7266e13",
   "metadata": {},
   "outputs": [],
   "source": [
    "model = Lasso(alpha = 0.0001)"
   ]
  },
  {
   "cell_type": "code",
   "execution_count": 118,
   "id": "a68cf8ab",
   "metadata": {},
   "outputs": [
    {
     "name": "stderr",
     "output_type": "stream",
     "text": [
      "/home/amro/.local/lib/python3.10/site-packages/sklearn/linear_model/_coordinate_descent.py:631: ConvergenceWarning: Objective did not converge. You might want to increase the number of iterations, check the scale of the features or consider increasing regularisation. Duality gap: 5.700e+03, tolerance: 1.596e+01\n",
      "  model = cd_fast.enet_coordinate_descent(\n"
     ]
    },
    {
     "data": {
      "text/html": [
       "<style>#sk-container-id-14 {color: black;background-color: white;}#sk-container-id-14 pre{padding: 0;}#sk-container-id-14 div.sk-toggleable {background-color: white;}#sk-container-id-14 label.sk-toggleable__label {cursor: pointer;display: block;width: 100%;margin-bottom: 0;padding: 0.3em;box-sizing: border-box;text-align: center;}#sk-container-id-14 label.sk-toggleable__label-arrow:before {content: \"▸\";float: left;margin-right: 0.25em;color: #696969;}#sk-container-id-14 label.sk-toggleable__label-arrow:hover:before {color: black;}#sk-container-id-14 div.sk-estimator:hover label.sk-toggleable__label-arrow:before {color: black;}#sk-container-id-14 div.sk-toggleable__content {max-height: 0;max-width: 0;overflow: hidden;text-align: left;background-color: #f0f8ff;}#sk-container-id-14 div.sk-toggleable__content pre {margin: 0.2em;color: black;border-radius: 0.25em;background-color: #f0f8ff;}#sk-container-id-14 input.sk-toggleable__control:checked~div.sk-toggleable__content {max-height: 200px;max-width: 100%;overflow: auto;}#sk-container-id-14 input.sk-toggleable__control:checked~label.sk-toggleable__label-arrow:before {content: \"▾\";}#sk-container-id-14 div.sk-estimator input.sk-toggleable__control:checked~label.sk-toggleable__label {background-color: #d4ebff;}#sk-container-id-14 div.sk-label input.sk-toggleable__control:checked~label.sk-toggleable__label {background-color: #d4ebff;}#sk-container-id-14 input.sk-hidden--visually {border: 0;clip: rect(1px 1px 1px 1px);clip: rect(1px, 1px, 1px, 1px);height: 1px;margin: -1px;overflow: hidden;padding: 0;position: absolute;width: 1px;}#sk-container-id-14 div.sk-estimator {font-family: monospace;background-color: #f0f8ff;border: 1px dotted black;border-radius: 0.25em;box-sizing: border-box;margin-bottom: 0.5em;}#sk-container-id-14 div.sk-estimator:hover {background-color: #d4ebff;}#sk-container-id-14 div.sk-parallel-item::after {content: \"\";width: 100%;border-bottom: 1px solid gray;flex-grow: 1;}#sk-container-id-14 div.sk-label:hover label.sk-toggleable__label {background-color: #d4ebff;}#sk-container-id-14 div.sk-serial::before {content: \"\";position: absolute;border-left: 1px solid gray;box-sizing: border-box;top: 0;bottom: 0;left: 50%;z-index: 0;}#sk-container-id-14 div.sk-serial {display: flex;flex-direction: column;align-items: center;background-color: white;padding-right: 0.2em;padding-left: 0.2em;position: relative;}#sk-container-id-14 div.sk-item {position: relative;z-index: 1;}#sk-container-id-14 div.sk-parallel {display: flex;align-items: stretch;justify-content: center;background-color: white;position: relative;}#sk-container-id-14 div.sk-item::before, #sk-container-id-14 div.sk-parallel-item::before {content: \"\";position: absolute;border-left: 1px solid gray;box-sizing: border-box;top: 0;bottom: 0;left: 50%;z-index: -1;}#sk-container-id-14 div.sk-parallel-item {display: flex;flex-direction: column;z-index: 1;position: relative;background-color: white;}#sk-container-id-14 div.sk-parallel-item:first-child::after {align-self: flex-end;width: 50%;}#sk-container-id-14 div.sk-parallel-item:last-child::after {align-self: flex-start;width: 50%;}#sk-container-id-14 div.sk-parallel-item:only-child::after {width: 0;}#sk-container-id-14 div.sk-dashed-wrapped {border: 1px dashed gray;margin: 0 0.4em 0.5em 0.4em;box-sizing: border-box;padding-bottom: 0.4em;background-color: white;}#sk-container-id-14 div.sk-label label {font-family: monospace;font-weight: bold;display: inline-block;line-height: 1.2em;}#sk-container-id-14 div.sk-label-container {text-align: center;}#sk-container-id-14 div.sk-container {/* jupyter's `normalize.less` sets `[hidden] { display: none; }` but bootstrap.min.css set `[hidden] { display: none !important; }` so we also need the `!important` here to be able to override the default hidden behavior on the sphinx rendered scikit-learn.org. See: https://github.com/scikit-learn/scikit-learn/issues/21755 */display: inline-block !important;position: relative;}#sk-container-id-14 div.sk-text-repr-fallback {display: none;}</style><div id=\"sk-container-id-14\" class=\"sk-top-container\"><div class=\"sk-text-repr-fallback\"><pre>Lasso(alpha=0.0001)</pre><b>In a Jupyter environment, please rerun this cell to show the HTML representation or trust the notebook. <br />On GitHub, the HTML representation is unable to render, please try loading this page with nbviewer.org.</b></div><div class=\"sk-container\" hidden><div class=\"sk-item\"><div class=\"sk-estimator sk-toggleable\"><input class=\"sk-toggleable__control sk-hidden--visually\" id=\"sk-estimator-id-16\" type=\"checkbox\" checked><label for=\"sk-estimator-id-16\" class=\"sk-toggleable__label sk-toggleable__label-arrow\">Lasso</label><div class=\"sk-toggleable__content\"><pre>Lasso(alpha=0.0001)</pre></div></div></div></div></div>"
      ],
      "text/plain": [
       "Lasso(alpha=0.0001)"
      ]
     },
     "execution_count": 118,
     "metadata": {},
     "output_type": "execute_result"
    }
   ],
   "source": [
    "model.fit(x_train,y_train)"
   ]
  },
  {
   "cell_type": "markdown",
   "id": "a73c323b",
   "metadata": {},
   "source": [
    "### Evaluation on train and test data"
   ]
  },
  {
   "cell_type": "code",
   "execution_count": 119,
   "id": "ca407bb7",
   "metadata": {},
   "outputs": [
    {
     "name": "stdout",
     "output_type": "stream",
     "text": [
      "Train Data\n",
      "Mean Squared Error: 148.73411155242135\n",
      "Squared Error: 74.36705577621068\n",
      "R-squared: 0.2542766081525907\n",
      "Max Deviation 39.065890338709465\n",
      "---------------------------------------------------------\n",
      "Test Data\n",
      "Mean Squared Error: 179.60499522257035\n",
      "Squared Error: 89.80249761128518\n",
      "R-squared: 0.16215948216472342\n",
      "Max Deviation 49.04319227439025\n"
     ]
    }
   ],
   "source": [
    "y_pred_train = model.predict(x_train)\n",
    "y_pred_test = model.predict(x_test)\n",
    "sqe = evaluation(y_train, y_test, y_pred_train, y_pred_test) #sqe here for test set"
   ]
  },
  {
   "cell_type": "code",
   "execution_count": 120,
   "id": "1d77fe8d",
   "metadata": {},
   "outputs": [
    {
     "name": "stdout",
     "output_type": "stream",
     "text": [
      "Old Square Error: 89.81331178190334\n",
      "New Square Error: 89.80249761128518\n"
     ]
    },
    {
     "name": "stderr",
     "output_type": "stream",
     "text": [
      "/home/amro/.local/lib/python3.10/site-packages/sklearn/base.py:318: UserWarning: Trying to unpickle estimator Lasso from version 1.3.0 when using version 1.2.2. This might lead to breaking code or invalid results. Use at your own risk. For more info please refer to:\n",
      "https://scikit-learn.org/stable/model_persistence.html#security-maintainability-limitations\n",
      "  warnings.warn(\n"
     ]
    }
   ],
   "source": [
    "save_model(sqe, model, x_test, y_test, \"Linear_Regrission\")"
   ]
  },
  {
   "cell_type": "markdown",
   "id": "6a018518",
   "metadata": {},
   "source": [
    "### --------------------------------------------------------------------------------"
   ]
  },
  {
   "cell_type": "markdown",
   "id": "6e269e0c",
   "metadata": {},
   "source": [
    "### 4.4 My LinearRegression"
   ]
  },
  {
   "cell_type": "code",
   "execution_count": 322,
   "id": "9afcd56f",
   "metadata": {},
   "outputs": [],
   "source": [
    "#batch_gradient_decent_multi_features\n",
    "\n",
    "def batch_gradient_decent_multi_features(X,Y,alpha): \n",
    "    try:\n",
    "        num_features = X.shape[1]\n",
    "    except:\n",
    "        num_features = 1\n",
    "        \n",
    "    num_training_ex = X.shape[0]\n",
    "    theta = np.zeros(num_features)\n",
    "    b = 0\n",
    "    Y_predict = X @ theta + b\n",
    "    cost_fun = np.sum(np.square(Y_predict - Y)) / (2*num_training_ex)\n",
    "    \n",
    "    i = 0\n",
    "    while i < 100000:\n",
    "        i += 1\n",
    "        theta_temp = theta - (alpha/num_training_ex)*(X.T@(Y_predict - Y))\n",
    "        b_temp = b - (alpha/num_training_ex)*(np.sum(Y_predict - Y))\n",
    "        Y_predict_temp = X @ theta_temp + b_temp\n",
    "        temp_cost = np.sum(np.square(Y_predict_temp - Y)) / (2*num_training_ex)\n",
    "        \n",
    "        if temp_cost > cost_fun:\n",
    "            return theta, b, cost_fun, Y_predict\n",
    "        else:\n",
    "            cost_fun = temp_cost\n",
    "            theta = theta_temp\n",
    "            b = b_temp\n",
    "            Y_predict = Y_predict_temp\n",
    "    return theta, b, cost_fun, Y_predict"
   ]
  },
  {
   "cell_type": "code",
   "execution_count": 335,
   "id": "c08a3dbe",
   "metadata": {},
   "outputs": [],
   "source": [
    "alpha = 0.0001\n",
    "theta, b, cost_fun, y_pred_train = batch_gradient_decent_multi_features(x_train, y_train, alpha)"
   ]
  },
  {
   "cell_type": "code",
   "execution_count": null,
   "id": "b786758d",
   "metadata": {},
   "outputs": [],
   "source": [
    "cost_fun #of train data"
   ]
  },
  {
   "cell_type": "markdown",
   "id": "3be2bd24",
   "metadata": {},
   "source": [
    "### Evaluation on train and test data"
   ]
  },
  {
   "cell_type": "code",
   "execution_count": 196,
   "id": "da40abec",
   "metadata": {},
   "outputs": [
    {
     "name": "stdout",
     "output_type": "stream",
     "text": [
      "Mean Squared Error: 149.87672455431854\n",
      "Squared Error: 74.93836227715927\n",
      "R-squared: 0.24854777275329887\n"
     ]
    }
   ],
   "source": [
    "y_pred_train = x_train@theta+b\n",
    "y_pred_test = x_test@theta+b\n",
    "sqe = evaluation(y_train, y_test, y_pred_train, y_pred_test) #sqe here for test set"
   ]
  },
  {
   "cell_type": "code",
   "execution_count": null,
   "id": "8bd77f51",
   "metadata": {},
   "outputs": [],
   "source": [
    "old_model = joblib.load(\"../../data/linear_regression_model.pkl\")\n",
    "y_pred_test = old_model.predict(x_test)\n",
    "sqe_old = square_error(y_test, y_pred_test)\n",
    "print(\"Old Square Error:\", sqe_old)\n",
    "print(\"New Square Error:\", sqe)\n",
    "\n",
    "if sqe < sqe_old:\n",
    "    joblib.dump(model,\"../../data/linear_regression_model.pkl\")"
   ]
  },
  {
   "cell_type": "code",
   "execution_count": null,
   "id": "08f87985",
   "metadata": {},
   "outputs": [],
   "source": []
  },
  {
   "cell_type": "markdown",
   "id": "10664e73",
   "metadata": {},
   "source": [
    "### ----------------------------------------------------------------------------------------------------------------------------------------------------------"
   ]
  },
  {
   "cell_type": "markdown",
   "id": "7a159344",
   "metadata": {},
   "source": [
    "## 5) XGBoost Regressor"
   ]
  },
  {
   "cell_type": "code",
   "execution_count": 122,
   "id": "81253d21",
   "metadata": {},
   "outputs": [],
   "source": [
    "from xgboost import XGBRegressor"
   ]
  },
  {
   "cell_type": "code",
   "execution_count": 123,
   "id": "8fba1ef1",
   "metadata": {},
   "outputs": [],
   "source": [
    "model = XGBRegressor()"
   ]
  },
  {
   "cell_type": "code",
   "execution_count": 124,
   "id": "3efb6519",
   "metadata": {},
   "outputs": [
    {
     "data": {
      "text/html": [
       "<style>#sk-container-id-15 {color: black;background-color: white;}#sk-container-id-15 pre{padding: 0;}#sk-container-id-15 div.sk-toggleable {background-color: white;}#sk-container-id-15 label.sk-toggleable__label {cursor: pointer;display: block;width: 100%;margin-bottom: 0;padding: 0.3em;box-sizing: border-box;text-align: center;}#sk-container-id-15 label.sk-toggleable__label-arrow:before {content: \"▸\";float: left;margin-right: 0.25em;color: #696969;}#sk-container-id-15 label.sk-toggleable__label-arrow:hover:before {color: black;}#sk-container-id-15 div.sk-estimator:hover label.sk-toggleable__label-arrow:before {color: black;}#sk-container-id-15 div.sk-toggleable__content {max-height: 0;max-width: 0;overflow: hidden;text-align: left;background-color: #f0f8ff;}#sk-container-id-15 div.sk-toggleable__content pre {margin: 0.2em;color: black;border-radius: 0.25em;background-color: #f0f8ff;}#sk-container-id-15 input.sk-toggleable__control:checked~div.sk-toggleable__content {max-height: 200px;max-width: 100%;overflow: auto;}#sk-container-id-15 input.sk-toggleable__control:checked~label.sk-toggleable__label-arrow:before {content: \"▾\";}#sk-container-id-15 div.sk-estimator input.sk-toggleable__control:checked~label.sk-toggleable__label {background-color: #d4ebff;}#sk-container-id-15 div.sk-label input.sk-toggleable__control:checked~label.sk-toggleable__label {background-color: #d4ebff;}#sk-container-id-15 input.sk-hidden--visually {border: 0;clip: rect(1px 1px 1px 1px);clip: rect(1px, 1px, 1px, 1px);height: 1px;margin: -1px;overflow: hidden;padding: 0;position: absolute;width: 1px;}#sk-container-id-15 div.sk-estimator {font-family: monospace;background-color: #f0f8ff;border: 1px dotted black;border-radius: 0.25em;box-sizing: border-box;margin-bottom: 0.5em;}#sk-container-id-15 div.sk-estimator:hover {background-color: #d4ebff;}#sk-container-id-15 div.sk-parallel-item::after {content: \"\";width: 100%;border-bottom: 1px solid gray;flex-grow: 1;}#sk-container-id-15 div.sk-label:hover label.sk-toggleable__label {background-color: #d4ebff;}#sk-container-id-15 div.sk-serial::before {content: \"\";position: absolute;border-left: 1px solid gray;box-sizing: border-box;top: 0;bottom: 0;left: 50%;z-index: 0;}#sk-container-id-15 div.sk-serial {display: flex;flex-direction: column;align-items: center;background-color: white;padding-right: 0.2em;padding-left: 0.2em;position: relative;}#sk-container-id-15 div.sk-item {position: relative;z-index: 1;}#sk-container-id-15 div.sk-parallel {display: flex;align-items: stretch;justify-content: center;background-color: white;position: relative;}#sk-container-id-15 div.sk-item::before, #sk-container-id-15 div.sk-parallel-item::before {content: \"\";position: absolute;border-left: 1px solid gray;box-sizing: border-box;top: 0;bottom: 0;left: 50%;z-index: -1;}#sk-container-id-15 div.sk-parallel-item {display: flex;flex-direction: column;z-index: 1;position: relative;background-color: white;}#sk-container-id-15 div.sk-parallel-item:first-child::after {align-self: flex-end;width: 50%;}#sk-container-id-15 div.sk-parallel-item:last-child::after {align-self: flex-start;width: 50%;}#sk-container-id-15 div.sk-parallel-item:only-child::after {width: 0;}#sk-container-id-15 div.sk-dashed-wrapped {border: 1px dashed gray;margin: 0 0.4em 0.5em 0.4em;box-sizing: border-box;padding-bottom: 0.4em;background-color: white;}#sk-container-id-15 div.sk-label label {font-family: monospace;font-weight: bold;display: inline-block;line-height: 1.2em;}#sk-container-id-15 div.sk-label-container {text-align: center;}#sk-container-id-15 div.sk-container {/* jupyter's `normalize.less` sets `[hidden] { display: none; }` but bootstrap.min.css set `[hidden] { display: none !important; }` so we also need the `!important` here to be able to override the default hidden behavior on the sphinx rendered scikit-learn.org. See: https://github.com/scikit-learn/scikit-learn/issues/21755 */display: inline-block !important;position: relative;}#sk-container-id-15 div.sk-text-repr-fallback {display: none;}</style><div id=\"sk-container-id-15\" class=\"sk-top-container\"><div class=\"sk-text-repr-fallback\"><pre>XGBRegressor(base_score=None, booster=None, callbacks=None,\n",
       "             colsample_bylevel=None, colsample_bynode=None,\n",
       "             colsample_bytree=None, early_stopping_rounds=None,\n",
       "             enable_categorical=False, eval_metric=None, feature_types=None,\n",
       "             gamma=None, gpu_id=None, grow_policy=None, importance_type=None,\n",
       "             interaction_constraints=None, learning_rate=None, max_bin=None,\n",
       "             max_cat_threshold=None, max_cat_to_onehot=None,\n",
       "             max_delta_step=None, max_depth=None, max_leaves=None,\n",
       "             min_child_weight=None, missing=nan, monotone_constraints=None,\n",
       "             n_estimators=100, n_jobs=None, num_parallel_tree=None,\n",
       "             predictor=None, random_state=None, ...)</pre><b>In a Jupyter environment, please rerun this cell to show the HTML representation or trust the notebook. <br />On GitHub, the HTML representation is unable to render, please try loading this page with nbviewer.org.</b></div><div class=\"sk-container\" hidden><div class=\"sk-item\"><div class=\"sk-estimator sk-toggleable\"><input class=\"sk-toggleable__control sk-hidden--visually\" id=\"sk-estimator-id-17\" type=\"checkbox\" checked><label for=\"sk-estimator-id-17\" class=\"sk-toggleable__label sk-toggleable__label-arrow\">XGBRegressor</label><div class=\"sk-toggleable__content\"><pre>XGBRegressor(base_score=None, booster=None, callbacks=None,\n",
       "             colsample_bylevel=None, colsample_bynode=None,\n",
       "             colsample_bytree=None, early_stopping_rounds=None,\n",
       "             enable_categorical=False, eval_metric=None, feature_types=None,\n",
       "             gamma=None, gpu_id=None, grow_policy=None, importance_type=None,\n",
       "             interaction_constraints=None, learning_rate=None, max_bin=None,\n",
       "             max_cat_threshold=None, max_cat_to_onehot=None,\n",
       "             max_delta_step=None, max_depth=None, max_leaves=None,\n",
       "             min_child_weight=None, missing=nan, monotone_constraints=None,\n",
       "             n_estimators=100, n_jobs=None, num_parallel_tree=None,\n",
       "             predictor=None, random_state=None, ...)</pre></div></div></div></div></div>"
      ],
      "text/plain": [
       "XGBRegressor(base_score=None, booster=None, callbacks=None,\n",
       "             colsample_bylevel=None, colsample_bynode=None,\n",
       "             colsample_bytree=None, early_stopping_rounds=None,\n",
       "             enable_categorical=False, eval_metric=None, feature_types=None,\n",
       "             gamma=None, gpu_id=None, grow_policy=None, importance_type=None,\n",
       "             interaction_constraints=None, learning_rate=None, max_bin=None,\n",
       "             max_cat_threshold=None, max_cat_to_onehot=None,\n",
       "             max_delta_step=None, max_depth=None, max_leaves=None,\n",
       "             min_child_weight=None, missing=nan, monotone_constraints=None,\n",
       "             n_estimators=100, n_jobs=None, num_parallel_tree=None,\n",
       "             predictor=None, random_state=None, ...)"
      ]
     },
     "execution_count": 124,
     "metadata": {},
     "output_type": "execute_result"
    }
   ],
   "source": [
    "model.fit(x_train,y_train)"
   ]
  },
  {
   "cell_type": "markdown",
   "id": "6c1f3837",
   "metadata": {},
   "source": [
    "### Evaluation on train and test data"
   ]
  },
  {
   "cell_type": "code",
   "execution_count": 125,
   "id": "8db5a438",
   "metadata": {},
   "outputs": [
    {
     "name": "stdout",
     "output_type": "stream",
     "text": [
      "Train Data\n",
      "Mean Squared Error: 118.04742345589871\n",
      "Squared Error: 59.023711727949355\n",
      "R-squared: 0.4081335875169847\n",
      "Max Deviation 34.32858530680339\n",
      "---------------------------------------------------------\n",
      "Test Data\n",
      "Mean Squared Error: 230.39285920885115\n",
      "Squared Error: 115.19642960442557\n",
      "R-squared: -0.07476115698165198\n",
      "Max Deviation 54.73445129394531\n"
     ]
    }
   ],
   "source": [
    "y_pred_train = model.predict(x_train)\n",
    "y_pred_test = model.predict(x_test)\n",
    "sqe = evaluation(y_train, y_test, y_pred_train, y_pred_test) #sqe here for test set"
   ]
  },
  {
   "cell_type": "code",
   "execution_count": 126,
   "id": "115fe807",
   "metadata": {},
   "outputs": [
    {
     "name": "stdout",
     "output_type": "stream",
     "text": [
      "Old Square Error: 115.19642960442557\n",
      "New Square Error: 115.19642960442557\n"
     ]
    }
   ],
   "source": [
    "save_model(sqe, model, x_test, y_test, \"XGBRegressor\")"
   ]
  },
  {
   "cell_type": "markdown",
   "id": "5f62714c",
   "metadata": {},
   "source": [
    "### Hyperparameter Tuning"
   ]
  },
  {
   "cell_type": "code",
   "execution_count": 127,
   "id": "3e955ff2",
   "metadata": {},
   "outputs": [],
   "source": [
    "from sklearn.model_selection import RandomizedSearchCV, GridSearchCV"
   ]
  },
  {
   "cell_type": "code",
   "execution_count": 207,
   "id": "2e384a32",
   "metadata": {},
   "outputs": [],
   "source": [
    "\n",
    "# Define hyperparameter search spaces\n",
    "param_dist = {\n",
    " \n",
    " \"n_estimators\"     : [2,5,10, 15,20,30, 50,70],\n",
    " \"learning_rate\"    : [0.001,0.01, 0.05, 0.10, 0.15, 0.20, 0.25, 0.30,0.4,0.5 ] ,\n",
    " \"max_depth\"        : [ 3, 4, 5, 6, 8, 10, 12, 15,17,29,21],\n",
    " \"min_child_weight\" : [ 3, 5, 7,11,13,15,17 ],\n",
    " \"gamma\"            : [ 0.0, 0.1, 0.2 , 0.3, 0.4 ],\n",
    " \"colsample_bytree\" : [ 0.3, 0.4, 0.5 , 0.7 ]\n",
    "    \n",
    "}\n",
    "\n",
    "param_grid = {\n",
    "    'n_estimators': [10, 50, 100, 200,400,800],\n",
    "    'max_depth': [None, 10, 20, 30],\n",
    "    'min_samples_split': [2, 5, 10],\n",
    "    'min_samples_leaf': [1, 2, 4],\n",
    "}\n"
   ]
  },
  {
   "cell_type": "code",
   "execution_count": 208,
   "id": "aae53f72",
   "metadata": {},
   "outputs": [
    {
     "data": {
      "text/html": [
       "<style>#sk-container-id-39 {color: black;background-color: white;}#sk-container-id-39 pre{padding: 0;}#sk-container-id-39 div.sk-toggleable {background-color: white;}#sk-container-id-39 label.sk-toggleable__label {cursor: pointer;display: block;width: 100%;margin-bottom: 0;padding: 0.3em;box-sizing: border-box;text-align: center;}#sk-container-id-39 label.sk-toggleable__label-arrow:before {content: \"▸\";float: left;margin-right: 0.25em;color: #696969;}#sk-container-id-39 label.sk-toggleable__label-arrow:hover:before {color: black;}#sk-container-id-39 div.sk-estimator:hover label.sk-toggleable__label-arrow:before {color: black;}#sk-container-id-39 div.sk-toggleable__content {max-height: 0;max-width: 0;overflow: hidden;text-align: left;background-color: #f0f8ff;}#sk-container-id-39 div.sk-toggleable__content pre {margin: 0.2em;color: black;border-radius: 0.25em;background-color: #f0f8ff;}#sk-container-id-39 input.sk-toggleable__control:checked~div.sk-toggleable__content {max-height: 200px;max-width: 100%;overflow: auto;}#sk-container-id-39 input.sk-toggleable__control:checked~label.sk-toggleable__label-arrow:before {content: \"▾\";}#sk-container-id-39 div.sk-estimator input.sk-toggleable__control:checked~label.sk-toggleable__label {background-color: #d4ebff;}#sk-container-id-39 div.sk-label input.sk-toggleable__control:checked~label.sk-toggleable__label {background-color: #d4ebff;}#sk-container-id-39 input.sk-hidden--visually {border: 0;clip: rect(1px 1px 1px 1px);clip: rect(1px, 1px, 1px, 1px);height: 1px;margin: -1px;overflow: hidden;padding: 0;position: absolute;width: 1px;}#sk-container-id-39 div.sk-estimator {font-family: monospace;background-color: #f0f8ff;border: 1px dotted black;border-radius: 0.25em;box-sizing: border-box;margin-bottom: 0.5em;}#sk-container-id-39 div.sk-estimator:hover {background-color: #d4ebff;}#sk-container-id-39 div.sk-parallel-item::after {content: \"\";width: 100%;border-bottom: 1px solid gray;flex-grow: 1;}#sk-container-id-39 div.sk-label:hover label.sk-toggleable__label {background-color: #d4ebff;}#sk-container-id-39 div.sk-serial::before {content: \"\";position: absolute;border-left: 1px solid gray;box-sizing: border-box;top: 0;bottom: 0;left: 50%;z-index: 0;}#sk-container-id-39 div.sk-serial {display: flex;flex-direction: column;align-items: center;background-color: white;padding-right: 0.2em;padding-left: 0.2em;position: relative;}#sk-container-id-39 div.sk-item {position: relative;z-index: 1;}#sk-container-id-39 div.sk-parallel {display: flex;align-items: stretch;justify-content: center;background-color: white;position: relative;}#sk-container-id-39 div.sk-item::before, #sk-container-id-39 div.sk-parallel-item::before {content: \"\";position: absolute;border-left: 1px solid gray;box-sizing: border-box;top: 0;bottom: 0;left: 50%;z-index: -1;}#sk-container-id-39 div.sk-parallel-item {display: flex;flex-direction: column;z-index: 1;position: relative;background-color: white;}#sk-container-id-39 div.sk-parallel-item:first-child::after {align-self: flex-end;width: 50%;}#sk-container-id-39 div.sk-parallel-item:last-child::after {align-self: flex-start;width: 50%;}#sk-container-id-39 div.sk-parallel-item:only-child::after {width: 0;}#sk-container-id-39 div.sk-dashed-wrapped {border: 1px dashed gray;margin: 0 0.4em 0.5em 0.4em;box-sizing: border-box;padding-bottom: 0.4em;background-color: white;}#sk-container-id-39 div.sk-label label {font-family: monospace;font-weight: bold;display: inline-block;line-height: 1.2em;}#sk-container-id-39 div.sk-label-container {text-align: center;}#sk-container-id-39 div.sk-container {/* jupyter's `normalize.less` sets `[hidden] { display: none; }` but bootstrap.min.css set `[hidden] { display: none !important; }` so we also need the `!important` here to be able to override the default hidden behavior on the sphinx rendered scikit-learn.org. See: https://github.com/scikit-learn/scikit-learn/issues/21755 */display: inline-block !important;position: relative;}#sk-container-id-39 div.sk-text-repr-fallback {display: none;}</style><div id=\"sk-container-id-39\" class=\"sk-top-container\"><div class=\"sk-text-repr-fallback\"><pre>XGBRegressor(base_score=None, booster=None, callbacks=None,\n",
       "             colsample_bylevel=None, colsample_bynode=None,\n",
       "             colsample_bytree=0.3, early_stopping_rounds=None,\n",
       "             enable_categorical=False, eval_metric=None, feature_types=None,\n",
       "             gamma=0.0, gpu_id=None, grow_policy=None, importance_type=None,\n",
       "             interaction_constraints=None, learning_rate=0.25, max_bin=None,\n",
       "             max_cat_threshold=None, max_cat_to_onehot=None,\n",
       "             max_delta_step=None, max_depth=3, max_leaves=None,\n",
       "             min_child_weight=17, missing=nan, monotone_constraints=None,\n",
       "             n_estimators=20, n_jobs=None, num_parallel_tree=None,\n",
       "             predictor=None, random_state=None, ...)</pre><b>In a Jupyter environment, please rerun this cell to show the HTML representation or trust the notebook. <br />On GitHub, the HTML representation is unable to render, please try loading this page with nbviewer.org.</b></div><div class=\"sk-container\" hidden><div class=\"sk-item\"><div class=\"sk-estimator sk-toggleable\"><input class=\"sk-toggleable__control sk-hidden--visually\" id=\"sk-estimator-id-41\" type=\"checkbox\" checked><label for=\"sk-estimator-id-41\" class=\"sk-toggleable__label sk-toggleable__label-arrow\">XGBRegressor</label><div class=\"sk-toggleable__content\"><pre>XGBRegressor(base_score=None, booster=None, callbacks=None,\n",
       "             colsample_bylevel=None, colsample_bynode=None,\n",
       "             colsample_bytree=0.3, early_stopping_rounds=None,\n",
       "             enable_categorical=False, eval_metric=None, feature_types=None,\n",
       "             gamma=0.0, gpu_id=None, grow_policy=None, importance_type=None,\n",
       "             interaction_constraints=None, learning_rate=0.25, max_bin=None,\n",
       "             max_cat_threshold=None, max_cat_to_onehot=None,\n",
       "             max_delta_step=None, max_depth=3, max_leaves=None,\n",
       "             min_child_weight=17, missing=nan, monotone_constraints=None,\n",
       "             n_estimators=20, n_jobs=None, num_parallel_tree=None,\n",
       "             predictor=None, random_state=None, ...)</pre></div></div></div></div></div>"
      ],
      "text/plain": [
       "XGBRegressor(base_score=None, booster=None, callbacks=None,\n",
       "             colsample_bylevel=None, colsample_bynode=None,\n",
       "             colsample_bytree=0.3, early_stopping_rounds=None,\n",
       "             enable_categorical=False, eval_metric=None, feature_types=None,\n",
       "             gamma=0.0, gpu_id=None, grow_policy=None, importance_type=None,\n",
       "             interaction_constraints=None, learning_rate=0.25, max_bin=None,\n",
       "             max_cat_threshold=None, max_cat_to_onehot=None,\n",
       "             max_delta_step=None, max_depth=3, max_leaves=None,\n",
       "             min_child_weight=17, missing=nan, monotone_constraints=None,\n",
       "             n_estimators=20, n_jobs=None, num_parallel_tree=None,\n",
       "             predictor=None, random_state=None, ...)"
      ]
     },
     "execution_count": 208,
     "metadata": {},
     "output_type": "execute_result"
    }
   ],
   "source": [
    "best_model = XGBRegressor()\n",
    "best_model = random_search(best_model,500)\n",
    "best_model"
   ]
  },
  {
   "cell_type": "markdown",
   "id": "6d4e3b02",
   "metadata": {},
   "source": [
    "### Evaluation on train and test data"
   ]
  },
  {
   "cell_type": "code",
   "execution_count": 209,
   "id": "feba7824",
   "metadata": {},
   "outputs": [
    {
     "name": "stdout",
     "output_type": "stream",
     "text": [
      "Train Data\n",
      "Mean Squared Error: tf.Tensor(144.60245, shape=(), dtype=float32)\n",
      "Squared Error: 72.30122389737126\n",
      "R-squared: 0.2749919523274429\n",
      "Max Deviation 36.194557189941406\n",
      "---------------------------------------------------------\n",
      "Test Data\n",
      "Mean Squared Error: tf.Tensor(186.8168, shape=(), dtype=float32)\n",
      "Squared Error: 93.40839131468175\n",
      "R-squared: 0.12851716788533651\n",
      "Max Deviation 47.171878814697266\n"
     ]
    }
   ],
   "source": [
    "y_pred_train = best_model.predict(x_train)\n",
    "y_pred_test = best_model.predict(x_test)\n",
    "sqe = evaluation(y_train, y_test, y_pred_train, y_pred_test) #sqe here for test set"
   ]
  },
  {
   "cell_type": "code",
   "execution_count": 168,
   "id": "67b60a47",
   "metadata": {},
   "outputs": [
    {
     "name": "stdout",
     "output_type": "stream",
     "text": [
      "Old Square Error: 92.84849808870837\n",
      "New Square Error: 92.79405205142066\n"
     ]
    }
   ],
   "source": [
    "save_model(sqe, best_model, x_test, y_test, \"XGBRegressor\")"
   ]
  },
  {
   "cell_type": "markdown",
   "id": "fe20066f",
   "metadata": {},
   "source": [
    "### ----------------------------------------------------------------------------------------------------------------------------------------------------------"
   ]
  },
  {
   "cell_type": "markdown",
   "id": "22c4a3f6",
   "metadata": {},
   "source": [
    "## 6) Neural Network"
   ]
  },
  {
   "cell_type": "code",
   "execution_count": 132,
   "id": "234cc0d8",
   "metadata": {},
   "outputs": [
    {
     "name": "stderr",
     "output_type": "stream",
     "text": [
      "2023-09-17 14:39:16.124103: I tensorflow/tsl/cuda/cudart_stub.cc:28] Could not find cuda drivers on your machine, GPU will not be used.\n",
      "2023-09-17 14:39:16.160683: I tensorflow/tsl/cuda/cudart_stub.cc:28] Could not find cuda drivers on your machine, GPU will not be used.\n",
      "2023-09-17 14:39:16.161495: I tensorflow/core/platform/cpu_feature_guard.cc:182] This TensorFlow binary is optimized to use available CPU instructions in performance-critical operations.\n",
      "To enable the following instructions: AVX2 FMA, in other operations, rebuild TensorFlow with the appropriate compiler flags.\n",
      "2023-09-17 14:39:16.685399: W tensorflow/compiler/tf2tensorrt/utils/py_utils.cc:38] TF-TRT Warning: Could not find TensorRT\n"
     ]
    }
   ],
   "source": [
    "import tensorflow as tf\n",
    "from tensorflow.keras import Sequential\n",
    "from tensorflow.keras.layers import Dense, BatchNormalization\n",
    "from tensorflow.keras.optimizers import Adam\n",
    "from tensorflow.keras.losses import mean_squared_error"
   ]
  },
  {
   "cell_type": "code",
   "execution_count": 127,
   "id": "aa912694",
   "metadata": {},
   "outputs": [],
   "source": [
    "model = Sequential(\n",
    "    [\n",
    "        BatchNormalization(),\n",
    "#         Dense(8192, activation = 'relu', kernel_initializer='he_normal'),\n",
    "#         BatchNormalization(),\n",
    "        Dense(4096, activation = 'relu'),\n",
    "        BatchNormalization(),\n",
    "        Dense(2048, activation = 'relu'),\n",
    "        BatchNormalization(),\n",
    "        Dense(1024, activation = 'relu'),\n",
    "        BatchNormalization(),\n",
    "        Dense(128, activation = 'relu'),\n",
    "        BatchNormalization(),\n",
    "        Dense(64, activation = 'relu'),\n",
    "        BatchNormalization(),\n",
    "        Dense(1, activation = 'linear'),\n",
    "    ]\n",
    "\n",
    ")"
   ]
  },
  {
   "cell_type": "code",
   "execution_count": 136,
   "id": "b1fb5ea3",
   "metadata": {},
   "outputs": [],
   "source": [
    "model.compile(\n",
    "    optimizer = Adam(0.00001),\n",
    "    loss = mean_squared_error,\n",
    ")"
   ]
  },
  {
   "cell_type": "code",
   "execution_count": 137,
   "id": "5282c491",
   "metadata": {},
   "outputs": [
    {
     "name": "stdout",
     "output_type": "stream",
     "text": [
      "Epoch 1/100\n",
      "25/25 [==============================] - 3s 83ms/step - loss: 123.5421\n",
      "Epoch 2/100\n",
      "25/25 [==============================] - 2s 83ms/step - loss: 126.3550\n",
      "Epoch 3/100\n",
      "25/25 [==============================] - 2s 84ms/step - loss: 124.7009\n",
      "Epoch 4/100\n",
      "25/25 [==============================] - 2s 83ms/step - loss: 123.7827\n",
      "Epoch 5/100\n",
      "25/25 [==============================] - 2s 84ms/step - loss: 123.5425\n",
      "Epoch 6/100\n",
      "25/25 [==============================] - 2s 83ms/step - loss: 126.2327\n",
      "Epoch 7/100\n",
      "25/25 [==============================] - 2s 85ms/step - loss: 122.6697\n",
      "Epoch 8/100\n",
      "25/25 [==============================] - 2s 82ms/step - loss: 123.6722\n",
      "Epoch 9/100\n",
      "25/25 [==============================] - 2s 82ms/step - loss: 123.7421\n",
      "Epoch 10/100\n",
      "25/25 [==============================] - 2s 83ms/step - loss: 123.0407\n",
      "Epoch 11/100\n",
      "25/25 [==============================] - 2s 84ms/step - loss: 124.1303\n",
      "Epoch 12/100\n",
      "25/25 [==============================] - 2s 82ms/step - loss: 123.0322\n",
      "Epoch 13/100\n",
      "25/25 [==============================] - 2s 83ms/step - loss: 123.9713\n",
      "Epoch 14/100\n",
      "25/25 [==============================] - 2s 83ms/step - loss: 125.3899\n",
      "Epoch 15/100\n",
      "25/25 [==============================] - 2s 85ms/step - loss: 122.6017\n",
      "Epoch 16/100\n",
      "25/25 [==============================] - 2s 86ms/step - loss: 123.5259\n",
      "Epoch 17/100\n",
      "25/25 [==============================] - 2s 87ms/step - loss: 123.4931\n",
      "Epoch 18/100\n",
      "25/25 [==============================] - 2s 85ms/step - loss: 123.8421\n",
      "Epoch 19/100\n",
      "25/25 [==============================] - 2s 86ms/step - loss: 125.6801\n",
      "Epoch 20/100\n",
      "25/25 [==============================] - 2s 85ms/step - loss: 125.3540\n",
      "Epoch 21/100\n",
      "25/25 [==============================] - 2s 87ms/step - loss: 126.0740\n",
      "Epoch 22/100\n",
      "25/25 [==============================] - 2s 91ms/step - loss: 123.8008\n",
      "Epoch 23/100\n",
      "25/25 [==============================] - 2s 90ms/step - loss: 122.3578\n",
      "Epoch 24/100\n",
      "25/25 [==============================] - 2s 85ms/step - loss: 124.3477\n",
      "Epoch 25/100\n",
      "25/25 [==============================] - 2s 87ms/step - loss: 122.5898\n",
      "Epoch 26/100\n",
      "25/25 [==============================] - 2s 88ms/step - loss: 124.5344\n",
      "Epoch 27/100\n",
      "25/25 [==============================] - 2s 89ms/step - loss: 124.0148\n",
      "Epoch 28/100\n",
      "25/25 [==============================] - 2s 89ms/step - loss: 124.3555\n",
      "Epoch 29/100\n",
      "25/25 [==============================] - 2s 89ms/step - loss: 121.9767\n",
      "Epoch 30/100\n",
      "25/25 [==============================] - 2s 87ms/step - loss: 122.9221\n",
      "Epoch 31/100\n",
      "25/25 [==============================] - 2s 89ms/step - loss: 127.1454\n",
      "Epoch 32/100\n",
      "25/25 [==============================] - 2s 83ms/step - loss: 123.1657\n",
      "Epoch 33/100\n",
      "25/25 [==============================] - 2s 87ms/step - loss: 123.2647\n",
      "Epoch 34/100\n",
      "25/25 [==============================] - 2s 84ms/step - loss: 124.6477\n",
      "Epoch 35/100\n",
      "25/25 [==============================] - 2s 82ms/step - loss: 123.3169\n",
      "Epoch 36/100\n",
      "25/25 [==============================] - 2s 82ms/step - loss: 125.4831\n",
      "Epoch 37/100\n",
      "25/25 [==============================] - 2s 83ms/step - loss: 127.6066\n",
      "Epoch 38/100\n",
      "25/25 [==============================] - 2s 83ms/step - loss: 122.4176\n",
      "Epoch 39/100\n",
      "25/25 [==============================] - 2s 84ms/step - loss: 122.3461\n",
      "Epoch 40/100\n",
      "25/25 [==============================] - 2s 83ms/step - loss: 123.9351\n",
      "Epoch 41/100\n",
      "25/25 [==============================] - 2s 84ms/step - loss: 121.3940\n",
      "Epoch 42/100\n",
      "25/25 [==============================] - 2s 83ms/step - loss: 125.3777\n",
      "Epoch 43/100\n",
      "25/25 [==============================] - 2s 82ms/step - loss: 125.8977\n",
      "Epoch 44/100\n",
      "25/25 [==============================] - 2s 83ms/step - loss: 122.9614\n",
      "Epoch 45/100\n",
      "25/25 [==============================] - 2s 83ms/step - loss: 124.4144\n",
      "Epoch 46/100\n",
      "25/25 [==============================] - 2s 83ms/step - loss: 124.6855\n",
      "Epoch 47/100\n",
      "25/25 [==============================] - 2s 84ms/step - loss: 119.6836\n",
      "Epoch 48/100\n",
      "25/25 [==============================] - 2s 83ms/step - loss: 121.5549\n",
      "Epoch 49/100\n",
      "25/25 [==============================] - 2s 84ms/step - loss: 122.7807\n",
      "Epoch 50/100\n",
      "25/25 [==============================] - 2s 83ms/step - loss: 125.7347\n",
      "Epoch 51/100\n",
      "25/25 [==============================] - 2s 84ms/step - loss: 122.4970\n",
      "Epoch 52/100\n",
      "25/25 [==============================] - 2s 83ms/step - loss: 124.1948\n",
      "Epoch 53/100\n",
      "25/25 [==============================] - 2s 83ms/step - loss: 123.6085\n",
      "Epoch 54/100\n",
      "25/25 [==============================] - 2s 83ms/step - loss: 125.3392\n",
      "Epoch 55/100\n",
      "25/25 [==============================] - 2s 84ms/step - loss: 124.0343\n",
      "Epoch 56/100\n",
      "25/25 [==============================] - 2s 82ms/step - loss: 123.8063\n",
      "Epoch 57/100\n",
      "25/25 [==============================] - 2s 82ms/step - loss: 124.9824\n",
      "Epoch 58/100\n",
      "25/25 [==============================] - 2s 83ms/step - loss: 120.3836\n",
      "Epoch 59/100\n",
      "25/25 [==============================] - 2s 82ms/step - loss: 122.7851\n",
      "Epoch 60/100\n",
      "25/25 [==============================] - 2s 83ms/step - loss: 123.5343\n",
      "Epoch 61/100\n",
      "25/25 [==============================] - 2s 82ms/step - loss: 121.7981\n",
      "Epoch 62/100\n",
      "25/25 [==============================] - 2s 81ms/step - loss: 122.9972\n",
      "Epoch 63/100\n",
      "25/25 [==============================] - 2s 82ms/step - loss: 122.9363\n",
      "Epoch 64/100\n",
      "25/25 [==============================] - 2s 82ms/step - loss: 123.4928\n",
      "Epoch 65/100\n",
      "25/25 [==============================] - 2s 82ms/step - loss: 123.4321\n",
      "Epoch 66/100\n",
      "25/25 [==============================] - 2s 81ms/step - loss: 121.7733\n",
      "Epoch 67/100\n",
      "25/25 [==============================] - 2s 83ms/step - loss: 123.0152\n",
      "Epoch 68/100\n",
      "25/25 [==============================] - 2s 83ms/step - loss: 123.3213\n",
      "Epoch 69/100\n",
      "25/25 [==============================] - 2s 83ms/step - loss: 125.3947\n",
      "Epoch 70/100\n",
      "25/25 [==============================] - 2s 82ms/step - loss: 122.5472\n",
      "Epoch 71/100\n",
      "25/25 [==============================] - 2s 82ms/step - loss: 126.5331\n",
      "Epoch 72/100\n",
      "25/25 [==============================] - 2s 82ms/step - loss: 124.1980\n",
      "Epoch 73/100\n",
      "25/25 [==============================] - 2s 82ms/step - loss: 123.6419\n",
      "Epoch 74/100\n",
      "25/25 [==============================] - 2s 82ms/step - loss: 125.7744\n",
      "Epoch 75/100\n",
      "25/25 [==============================] - 2s 82ms/step - loss: 125.1774\n",
      "Epoch 76/100\n",
      "25/25 [==============================] - 2s 83ms/step - loss: 124.2287\n",
      "Epoch 77/100\n",
      "25/25 [==============================] - 2s 82ms/step - loss: 122.7519\n",
      "Epoch 78/100\n",
      "25/25 [==============================] - 2s 82ms/step - loss: 125.7128\n",
      "Epoch 79/100\n",
      "25/25 [==============================] - 2s 82ms/step - loss: 119.7915\n",
      "Epoch 80/100\n",
      "25/25 [==============================] - 2s 83ms/step - loss: 123.7574\n",
      "Epoch 81/100\n",
      "25/25 [==============================] - 2s 82ms/step - loss: 122.5374\n",
      "Epoch 82/100\n",
      "25/25 [==============================] - 2s 82ms/step - loss: 121.7584\n",
      "Epoch 83/100\n",
      "25/25 [==============================] - 2s 82ms/step - loss: 124.7532\n",
      "Epoch 84/100\n",
      "25/25 [==============================] - 2s 83ms/step - loss: 126.7138\n",
      "Epoch 85/100\n",
      "25/25 [==============================] - 2s 82ms/step - loss: 124.7937\n",
      "Epoch 86/100\n",
      "25/25 [==============================] - 2s 82ms/step - loss: 124.5568\n",
      "Epoch 87/100\n",
      "25/25 [==============================] - 2s 82ms/step - loss: 125.2116\n",
      "Epoch 88/100\n",
      "25/25 [==============================] - 2s 81ms/step - loss: 123.0711\n",
      "Epoch 89/100\n",
      "25/25 [==============================] - 2s 83ms/step - loss: 124.5315\n",
      "Epoch 90/100\n",
      "25/25 [==============================] - 2s 82ms/step - loss: 121.2701\n",
      "Epoch 91/100\n",
      "25/25 [==============================] - 2s 82ms/step - loss: 121.7276\n",
      "Epoch 92/100\n",
      "25/25 [==============================] - 2s 82ms/step - loss: 123.9467\n",
      "Epoch 93/100\n",
      "25/25 [==============================] - 2s 83ms/step - loss: 121.8078\n",
      "Epoch 94/100\n",
      "25/25 [==============================] - 2s 82ms/step - loss: 122.6210\n",
      "Epoch 95/100\n",
      "25/25 [==============================] - 2s 82ms/step - loss: 121.0301\n",
      "Epoch 96/100\n",
      "25/25 [==============================] - 2s 83ms/step - loss: 121.5681\n",
      "Epoch 97/100\n",
      "25/25 [==============================] - 2s 83ms/step - loss: 123.0241\n",
      "Epoch 98/100\n",
      "25/25 [==============================] - 2s 81ms/step - loss: 123.3995\n",
      "Epoch 99/100\n",
      "25/25 [==============================] - 2s 82ms/step - loss: 124.5287\n",
      "Epoch 100/100\n",
      "25/25 [==============================] - 2s 83ms/step - loss: 127.8477\n"
     ]
    },
    {
     "data": {
      "text/plain": [
       "<keras.callbacks.History at 0x7f40fc63bfd0>"
      ]
     },
     "execution_count": 137,
     "metadata": {},
     "output_type": "execute_result"
    }
   ],
   "source": [
    "model.fit(x_train, y_train, epochs = 100)"
   ]
  },
  {
   "cell_type": "code",
   "execution_count": null,
   "id": "2629b361",
   "metadata": {},
   "outputs": [],
   "source": []
  },
  {
   "cell_type": "markdown",
   "id": "3abffb5b",
   "metadata": {},
   "source": [
    "### Evaluation on train and test data"
   ]
  },
  {
   "cell_type": "code",
   "execution_count": null,
   "id": "3260488d",
   "metadata": {},
   "outputs": [],
   "source": [
    "y_pred_train = model.predict(x_train)\n",
    "y_pred_test = model.predict(x_test)\n",
    "\n",
    "m = x_train.shape[0]\n",
    "y_pred_train = model.predict(x_train)\n",
    "y_pred_train = y_pred_train.reshape((m,))\n",
    "\n",
    "m = x_test.shape[0]\n",
    "y_pred_test = model.predict(x_test)\n",
    "y_pred_test = y_pred_test.reshape((m,))\n",
    "\n",
    "sqe = evaluation(y_train, y_test, y_pred_train, y_pred_test) #sqe here for test set"
   ]
  },
  {
   "cell_type": "code",
   "execution_count": 144,
   "id": "b27a8474",
   "metadata": {},
   "outputs": [],
   "source": [
    "save_model(sqe, model, x_test, y_test, \"Neural_Network\")"
   ]
  },
  {
   "cell_type": "code",
   "execution_count": null,
   "id": "308090de",
   "metadata": {},
   "outputs": [],
   "source": []
  }
 ],
 "metadata": {
  "kernelspec": {
   "display_name": "Python 3 (ipykernel)",
   "language": "python",
   "name": "python3"
  },
  "language_info": {
   "codemirror_mode": {
    "name": "ipython",
    "version": 3
   },
   "file_extension": ".py",
   "mimetype": "text/x-python",
   "name": "python",
   "nbconvert_exporter": "python",
   "pygments_lexer": "ipython3",
   "version": "3.10.12"
  }
 },
 "nbformat": 4,
 "nbformat_minor": 5
}
